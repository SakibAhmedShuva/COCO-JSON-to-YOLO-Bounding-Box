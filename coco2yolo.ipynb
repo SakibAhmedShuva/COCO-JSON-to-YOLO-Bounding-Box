{
 "cells": [
  {
   "cell_type": "code",
   "execution_count": 1,
   "metadata": {},
   "outputs": [],
   "source": [
    "import json\n",
    "import os\n",
    "from tqdm import tqdm\n",
    "\n",
    "def coco_to_yolo(coco_json_path, output_dir):\n",
    "    \"\"\"\n",
    "    Converts COCO annotations to YOLO format.\n",
    "\n",
    "    Args:\n",
    "        coco_json_path (str): Path to the COCO JSON file.\n",
    "        output_dir (str): Directory where the YOLO-formatted labels and data.yaml will be saved.\n",
    "    \"\"\"\n",
    "\n",
    "    # Load COCO JSON\n",
    "    with open(coco_json_path, 'r') as f:\n",
    "        coco_data = json.load(f)\n",
    "\n",
    "    # Create mapping from category IDs to class names and vice versa\n",
    "    categories = coco_data['categories']\n",
    "    category_id_to_name = {cat['id']: cat['name'] for cat in categories}\n",
    "    category_id_to_index = {cat['id']: idx for idx, cat in enumerate(categories)}  # YOLO class indices start at 0\n",
    "\n",
    "    # Create mapping from image IDs to file names and image dimensions\n",
    "    images = coco_data['images']\n",
    "    image_id_to_info = {img['id']: img for img in images}\n",
    "\n",
    "    # Prepare output directories\n",
    "    labels_dir = os.path.join(output_dir, 'labels')\n",
    "    images_dir = os.path.join(output_dir, 'images')\n",
    "    os.makedirs(labels_dir, exist_ok=True)\n",
    "    os.makedirs(images_dir, exist_ok=True)\n",
    "\n",
    "    # Process annotations\n",
    "    annotations = coco_data['annotations']\n",
    "    image_to_annotations = {}\n",
    "    for ann in annotations:\n",
    "        image_id = ann['image_id']\n",
    "        if image_id not in image_to_annotations:\n",
    "            image_to_annotations[image_id] = []\n",
    "        image_to_annotations[image_id].append(ann)\n",
    "\n",
    "    # Convert annotations to YOLO format\n",
    "    for image_id, anns in tqdm(image_to_annotations.items(), desc=\"Converting annotations\"):\n",
    "        image_info = image_id_to_info[image_id]\n",
    "        image_width = image_info['width']\n",
    "        image_height = image_info['height']\n",
    "        image_file_name = image_info['file_name']\n",
    "        label_file_name = os.path.splitext(image_file_name)[0] + '.txt'\n",
    "\n",
    "        # Copy image to images directory\n",
    "        # Note: Ensure that the images are located where this script can access them.\n",
    "        # If images are in a different directory, adjust the source path accordingly.\n",
    "        src_image_path = os.path.join('images', image_file_name)  # Adjust as necessary\n",
    "        dst_image_path = os.path.join(images_dir, image_file_name)\n",
    "        if os.path.exists(src_image_path):\n",
    "            if not os.path.exists(dst_image_path):\n",
    "                os.link(src_image_path, dst_image_path)\n",
    "        else:\n",
    "            print(f\"Warning: Image {src_image_path} not found.\")\n",
    "\n",
    "        # Write label file\n",
    "        label_file_path = os.path.join(labels_dir, label_file_name)\n",
    "        with open(label_file_path, 'w') as label_file:\n",
    "            for ann in anns:\n",
    "                # Get bounding box in COCO format\n",
    "                bbox_coco = ann['bbox']  # [x_min, y_min, width, height]\n",
    "                x_min, y_min, width, height = bbox_coco\n",
    "\n",
    "                # Convert to YOLO format\n",
    "                x_center = x_min + width / 2\n",
    "                y_center = y_min + height / 2\n",
    "\n",
    "                x_center /= image_width\n",
    "                y_center /= image_height\n",
    "                width /= image_width\n",
    "                height /= image_height\n",
    "\n",
    "                # Get class index (subtract 1 if category IDs start from 1)\n",
    "                category_id = ann['category_id']\n",
    "                class_index = category_id_to_index[category_id]\n",
    "\n",
    "                # Write to label file\n",
    "                label_file.write(f\"{class_index} {x_center} {y_center} {width} {height}\\n\")\n",
    "\n",
    "    # Generate data.yaml\n",
    "    data_yaml_path = os.path.join(output_dir, 'data.yaml')\n",
    "    with open(data_yaml_path, 'w') as data_yaml_file:\n",
    "        data_yaml_file.write(f\"train: ./train/images\\n\")\n",
    "        data_yaml_file.write(f\"val: ./valid/images\\n\")\n",
    "        data_yaml_file.write(f\"test: ./test/images\\n\\n\")\n",
    "        data_yaml_file.write(f\"nc: {len(categories)}\\n\")\n",
    "        names = [cat['name'] for cat in categories]\n",
    "        data_yaml_file.write(f\"names: {names}\\n\")\n",
    "\n",
    "    print(\"Conversion completed successfully.\")\n"
   ]
  },
  {
   "cell_type": "code",
   "execution_count": null,
   "metadata": {},
   "outputs": [
    {
     "name": "stderr",
     "output_type": "stream",
     "text": [
      "Converting annotations: 100%|██████████| 1496/1496 [00:00<00:00, 1769.78it/s]"
     ]
    },
    {
     "name": "stdout",
     "output_type": "stream",
     "text": [
      "Conversion completed successfully.\n"
     ]
    },
    {
     "name": "stderr",
     "output_type": "stream",
     "text": [
      "\n"
     ]
    }
   ],
   "source": [
    "# Example usage\n",
    "coco_json_path = r'd:\\OneDrive - Personal\\instances_default.json'  # Adjust the path to your COCO JSON file\n",
    "output_dir = 'yolo'  # Output directory for YOLO-formatted data\n",
    "coco_to_yolo(coco_json_path, output_dir)"
   ]
  },
  {
   "cell_type": "code",
   "execution_count": null,
   "metadata": {},
   "outputs": [],
   "source": []
  }
 ],
 "metadata": {
  "kernelspec": {
   "display_name": "Python 3",
   "language": "python",
   "name": "python3"
  },
  "language_info": {
   "codemirror_mode": {
    "name": "ipython",
    "version": 3
   },
   "file_extension": ".py",
   "mimetype": "text/x-python",
   "name": "python",
   "nbconvert_exporter": "python",
   "pygments_lexer": "ipython3",
   "version": "3.12.7"
  }
 },
 "nbformat": 4,
 "nbformat_minor": 2
}
